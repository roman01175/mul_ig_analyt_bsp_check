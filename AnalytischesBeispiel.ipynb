{
 "cells": [
  {
   "cell_type": "code",
   "execution_count": 2,
   "metadata": {},
   "outputs": [
    {
     "data": {
      "text/latex": [
       "$\\displaystyle \\left[\\begin{matrix}1.0 \\sqrt{3}\\\\0.75\\\\4.0\\end{matrix}\\right]$"
      ],
      "text/plain": [
       "⎡1.0⋅√3⎤\n",
       "⎢      ⎥\n",
       "⎢ 0.75 ⎥\n",
       "⎢      ⎥\n",
       "⎣ 4.0  ⎦"
      ]
     },
     "execution_count": 2,
     "metadata": {},
     "output_type": "execute_result"
    }
   ],
   "source": [
    "# Import von SymPy für symbolische Mathematik \n",
    "from sympy import *\n",
    "init_printing()\n",
    "\n",
    "# Initiiere die Parametervariablen u und v\n",
    "u, v = symbols('u v')\n",
    "\n",
    "# Definiere Flächenfunktion\n",
    "Surface = (1-v) * Matrix([4*cos(u),3*sin(u),0]) + v * Matrix([0,0,8])\n",
    "\n",
    "# Parameterwerte für Punkt P \n",
    "u_P = pi/6\n",
    "v_P = 1/2\n",
    "\n",
    "# Ortsvektor zu Punkt P\n",
    "P = Surface.subs([(u,u_P),(v,v_P)])\n",
    "simplify(P) # Ausgabe"
   ]
  },
  {
   "cell_type": "code",
   "execution_count": 3,
   "metadata": {},
   "outputs": [
    {
     "data": {
      "text/latex": [
       "$\\displaystyle \\left( \\left[\\begin{matrix}-1.0\\\\0.75 \\sqrt{3}\\\\0\\end{matrix}\\right], \\  \\left[\\begin{matrix}- 2 \\sqrt{3}\\\\- \\frac{3}{2}\\\\8\\end{matrix}\\right]\\right)$"
      ],
      "text/plain": [
       "⎛⎡ -1.0  ⎤  ⎡-2⋅√3⎤⎞\n",
       "⎜⎢       ⎥  ⎢     ⎥⎟\n",
       "⎜⎢0.75⋅√3⎥, ⎢-3/2 ⎥⎟\n",
       "⎜⎢       ⎥  ⎢     ⎥⎟\n",
       "⎝⎣   0   ⎦  ⎣  8  ⎦⎠"
      ]
     },
     "execution_count": 3,
     "metadata": {},
     "output_type": "execute_result"
    }
   ],
   "source": [
    "# Partielle Ableitung ..\n",
    "Surface_U = diff(Surface,u) #.. nach u\n",
    "Surface_V = diff(Surface,v) #.. nach v\n",
    "\n",
    "# Berechnung der Tangentenvektoren\n",
    "tu = Surface_U.subs([(u,u_P),(v,v_P)])\n",
    "tv = Surface_V.subs([(u,u_P),(v,v_P)])\n",
    "simplify(tu),simplify(tv) # Ausgabe"
   ]
  },
  {
   "cell_type": "code",
   "execution_count": 4,
   "metadata": {},
   "outputs": [
    {
     "data": {
      "text/latex": [
       "$\\displaystyle \\left[\\begin{matrix}6.0 \\sqrt{3}\\\\8.0\\\\6.0\\end{matrix}\\right]$"
      ],
      "text/plain": [
       "⎡6.0⋅√3⎤\n",
       "⎢      ⎥\n",
       "⎢ 8.0  ⎥\n",
       "⎢      ⎥\n",
       "⎣ 6.0  ⎦"
      ]
     },
     "execution_count": 4,
     "metadata": {},
     "output_type": "execute_result"
    }
   ],
   "source": [
    "# Bilde Kreuzprodukt\n",
    "n = tu.cross(tv)\n",
    "simplify(n) # Ausgabe"
   ]
  },
  {
   "cell_type": "code",
   "execution_count": 5,
   "metadata": {
    "scrolled": true
   },
   "outputs": [
    {
     "data": {
      "text/latex": [
       "$\\displaystyle \\left( \\left[\\begin{matrix}-0.609994281330419\\\\0.457495710997814 \\sqrt{3}\\\\0\\end{matrix}\\right], \\  \\left[\\begin{matrix}- \\frac{4 \\sqrt{939}}{313}\\\\- \\frac{3 \\sqrt{313}}{313}\\\\\\frac{16 \\sqrt{313}}{313}\\end{matrix}\\right], \\  \\left[\\begin{matrix}0.416025147168922 \\sqrt{3}\\\\0.554700196225229\\\\0.416025147168922\\end{matrix}\\right]\\right)$"
      ],
      "text/plain": [
       "⎛                        ⎡-4⋅√939 ⎤                        ⎞\n",
       "⎜                        ⎢────────⎥                        ⎟\n",
       "⎜                        ⎢  313   ⎥                        ⎟\n",
       "⎜⎡ -0.609994281330419 ⎤  ⎢        ⎥  ⎡0.416025147168922⋅√3⎤⎟\n",
       "⎜⎢                    ⎥  ⎢-3⋅√313 ⎥  ⎢                    ⎥⎟\n",
       "⎜⎢0.457495710997814⋅√3⎥, ⎢────────⎥, ⎢ 0.554700196225229  ⎥⎟\n",
       "⎜⎢                    ⎥  ⎢  313   ⎥  ⎢                    ⎥⎟\n",
       "⎜⎣         0          ⎦  ⎢        ⎥  ⎣ 0.416025147168922  ⎦⎟\n",
       "⎜                        ⎢16⋅√313 ⎥                        ⎟\n",
       "⎜                        ⎢─────── ⎥                        ⎟\n",
       "⎝                        ⎣  313   ⎦                        ⎠"
      ]
     },
     "execution_count": 5,
     "metadata": {},
     "output_type": "execute_result"
    }
   ],
   "source": [
    "# Ausgabe der normalisierten Vektoren\n",
    "simplify(tu/tu.norm()) , simplify(tv/tv.norm()) , simplify(n/n.norm())"
   ]
  }
 ],
 "metadata": {
  "kernelspec": {
   "display_name": "Python 3",
   "language": "python",
   "name": "python3"
  },
  "language_info": {
   "codemirror_mode": {
    "name": "ipython",
    "version": 3
   },
   "file_extension": ".py",
   "mimetype": "text/x-python",
   "name": "python",
   "nbconvert_exporter": "python",
   "pygments_lexer": "ipython3",
   "version": "3.7.7"
  },
  "widgets": {
   "application/vnd.jupyter.widget-state+json": {
    "state": {},
    "version_major": 2,
    "version_minor": 0
   }
  }
 },
 "nbformat": 4,
 "nbformat_minor": 4
}
